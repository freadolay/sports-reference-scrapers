{
 "cells": [
  {
   "cell_type": "code",
   "execution_count": 8,
   "metadata": {},
   "outputs": [],
   "source": [
    "from bs4 import BeautifulSoup\n",
    "import pandas as pd\n",
    "import requests\n",
    "import os\n",
    "from selenium import webdriver\n",
    "from selenium.webdriver.common.keys import Keys\n",
    "from selenium.webdriver.chrome.options import Options\n",
    "import time\n",
    "import importlib\n",
    "from src import html_requests\n",
    "from src import parse_html\n",
    "from src.pfr_scraper import PfrScraper"
   ]
  },
  {
   "cell_type": "code",
   "execution_count": 9,
   "metadata": {},
   "outputs": [
    {
     "data": {
      "text/plain": [
       "<module 'src.parse_html' from '/Users/Jared/dev_work/projects/sports-reference-scrapers/src/parse_html.py'>"
      ]
     },
     "execution_count": 9,
     "metadata": {},
     "output_type": "execute_result"
    }
   ],
   "source": [
    "# If making changes to python modules, need to reimport them each time\n",
    "importlib.reload(html_requests)\n",
    "importlib.reload(parse_html)"
   ]
  },
  {
   "cell_type": "code",
   "execution_count": 7,
   "metadata": {},
   "outputs": [
    {
     "name": "stdout",
     "output_type": "stream",
     "text": [
      "Getting 1970 Season Summary\n",
      "Getting 1971 Season Summary\n"
     ]
    }
   ],
   "source": [
    "# Get Season Summaries for Seasons 1970-->2021:\n",
    "save_path = '/Users/Jared/OneDrive - Sportsbook Science/data/raw/nfl/pfr_season_summaries'\n",
    "driver_path = '/Users/Jared/dev_work/chromedriver'\n",
    "html_requests.get_season_summaries(seasons=range(1970,2022),\n",
    "                                   folder_path=save_path,\n",
    "                                   chromedriver_path=driver_path)"
   ]
  },
  {
   "cell_type": "code",
   "execution_count": 135,
   "metadata": {},
   "outputs": [],
   "source": [
    "# Get needed week summary info for seasons 1970->2021\n",
    "years = range(1970,2022)\n",
    "weeks_lkp = {}\n",
    "for season in years:\n",
    "    weeks_lkp[season] = []\n",
    "    with open(\"{}/{}_summary.html\".format(season_save_location, season)) as f:\n",
    "        season_page = f.read()\n",
    "    soup = BeautifulSoup(season_page, 'html.parser')\n",
    "    week_elements = soup.find(id='div_week_games').find_all('a')\n",
    "    week_num = 0\n",
    "    for week_element in week_elements:\n",
    "        week_num += 1\n",
    "        weeks_lkp[season].append([week_num, week_element['href'], week_element.get_text()])"
   ]
  },
  {
   "cell_type": "code",
   "execution_count": 75,
   "metadata": {},
   "outputs": [],
   "source": [
    "# Get Web Pages for all weeks - REQUESTS HAPPENING\n",
    "base_save_location = '/Users/Jared/OneDrive - Sportsbook Science/data/raw/nfl'\n",
    "week_summary_location = base_save_location+'/pfr_week_summaries'\n",
    "for season_key in weeks_lkp.keys():\n",
    "    for week_summary_element in weeks_lkp[season_key]:\n",
    "        week_summary_response = requests.get(base_url+week_summary_element[1])\n",
    "        with open('{}/{}_week{}_summary.html'.format(week_summary_location, season_key, week_summary_element[0]), 'w+') as f:\n",
    "            f.write(week_summary_response.text)\n",
    "        time.sleep(3)"
   ]
  },
  {
   "cell_type": "code",
   "execution_count": 139,
   "metadata": {},
   "outputs": [],
   "source": [
    "# Parse out game links for each week of each season\n",
    "for season_key in weeks_lkp.keys():\n",
    "    indx = 0\n",
    "    for week_summary_element in weeks_lkp[season_key]:\n",
    "        with open(\"{}/{}_week{}_summary.html\".format(week_summary_location, season_key, week_summary_element[0])) as f:\n",
    "            page = f.read()\n",
    "        soup = BeautifulSoup(page, 'html.parser')\n",
    "        game_link_elements = soup.find_all('td', class_='right gamelink')\n",
    "        game_links = []\n",
    "        for game_link_element in game_link_elements:\n",
    "            game_links.append(game_link_element.find('a')['href'])\n",
    "        weeks_lkp[season_key][indx].append(game_links)\n",
    "        indx += 1\n",
    "\n",
    "# Saving the lookup dictionary so it isn't lost going forward (between sessions)\n",
    "import pickle\n",
    "with open ('tmp_vars/season_week_lkp_dict.pkl', 'wb') as f:\n",
    "    pickle.dump(weeks_lkp, f)"
   ]
  },
  {
   "cell_type": "code",
   "execution_count": 181,
   "metadata": {},
   "outputs": [
    {
     "name": "stdout",
     "output_type": "stream",
     "text": [
      "/boxscores/202110100cin.htm\n"
     ]
    }
   ],
   "source": [
    "# Send request to take a look at the box score/single game info - see if javascript reader is needed\n",
    "year_to_test = 2021\n",
    "week_to_test = 5\n",
    "game = 3\n",
    "game_save_location = base_save_location+'/pfr_game_summaries'\n",
    "tester_games = weeks_lkp[year_to_test][week_to_test-1][3]\n",
    "tester_game = tester_games[game]\n",
    "print(tester_game)\n",
    "game_id = tester_game[tester_game.find(tester_game.split('/')[2]):tester_game.find('.htm')]\n",
    "tester_game_response = requests.get(base_url+tester_game)\n",
    "with open(f'{game_save_location}/{game_id}.html', 'w+') as f:\n",
    "    f.write(tester_game_response.text)"
   ]
  },
  {
   "cell_type": "code",
   "execution_count": 182,
   "metadata": {},
   "outputs": [
    {
     "name": "stdout",
     "output_type": "stream",
     "text": [
      "{'away_team': 'Green Bay Packers', 'away_team_score_q1': 0, 'away_team_score_q2': 16, 'away_team_score_q3': 3, 'away_team_score_q4': 3, 'away_team_score_final': 25, 'home_team': 'Cincinnati Bengals', 'home_team_score_q1': 7, 'home_team_score_q2': 7, 'home_team_score_q3': 0, 'home_team_score_q4': 8, 'home_team_score_final': 22, 'away_team_score_overtime': 3, 'home_team_score_overtime': 0}\n"
     ]
    },
    {
     "data": {
      "text/html": [
       "<div>\n",
       "<style scoped>\n",
       "    .dataframe tbody tr th:only-of-type {\n",
       "        vertical-align: middle;\n",
       "    }\n",
       "\n",
       "    .dataframe tbody tr th {\n",
       "        vertical-align: top;\n",
       "    }\n",
       "\n",
       "    .dataframe thead th {\n",
       "        text-align: right;\n",
       "    }\n",
       "</style>\n",
       "<table border=\"1\" class=\"dataframe\">\n",
       "  <thead>\n",
       "    <tr style=\"text-align: right;\">\n",
       "      <th></th>\n",
       "      <th>Unnamed: 0</th>\n",
       "      <th>Unnamed: 1</th>\n",
       "      <th>1</th>\n",
       "      <th>2</th>\n",
       "      <th>3</th>\n",
       "      <th>4</th>\n",
       "      <th>OT</th>\n",
       "      <th>Final</th>\n",
       "    </tr>\n",
       "  </thead>\n",
       "  <tbody>\n",
       "    <tr>\n",
       "      <th>0</th>\n",
       "      <td>via Sports Logos.net About logos</td>\n",
       "      <td>Green Bay Packers</td>\n",
       "      <td>0</td>\n",
       "      <td>16</td>\n",
       "      <td>3</td>\n",
       "      <td>3</td>\n",
       "      <td>3</td>\n",
       "      <td>25</td>\n",
       "    </tr>\n",
       "    <tr>\n",
       "      <th>1</th>\n",
       "      <td>via Sports Logos.net About logos</td>\n",
       "      <td>Cincinnati Bengals</td>\n",
       "      <td>7</td>\n",
       "      <td>7</td>\n",
       "      <td>0</td>\n",
       "      <td>8</td>\n",
       "      <td>0</td>\n",
       "      <td>22</td>\n",
       "    </tr>\n",
       "  </tbody>\n",
       "</table>\n",
       "</div>"
      ],
      "text/plain": [
       "                         Unnamed: 0          Unnamed: 1  1   2  3  4  OT  \\\n",
       "0  via Sports Logos.net About logos   Green Bay Packers  0  16  3  3   3   \n",
       "1  via Sports Logos.net About logos  Cincinnati Bengals  7   7  0  8   0   \n",
       "\n",
       "   Final  \n",
       "0     25  \n",
       "1     22  "
      ]
     },
     "execution_count": 182,
     "metadata": {},
     "output_type": "execute_result"
    }
   ],
   "source": [
    "# Take a look at game info with BS\n",
    "year_to_test = 2021\n",
    "week_to_test = 5\n",
    "game = 3\n",
    "tester_games = weeks_lkp[year_to_test][week_to_test-1][3]\n",
    "tester_game = tester_games[game]\n",
    "game_id = tester_game[tester_game.find(tester_game.split('/')[2]):tester_game.find('.htm')]\n",
    "\n",
    "with open (f'{game_save_location}/{game_id}.html') as f:\n",
    "    tester_html = f.read()\n",
    "soup = BeautifulSoup(tester_html, 'html.parser')\n",
    "\n",
    "# Game Summary Info\n",
    "\n",
    "# Get Linescore\n",
    "linescore = str(soup.find('table',class_='linescore nohover stats_table no_freeze'))\n",
    "linescore_df = pd.read_html(linescore)[0]\n",
    "entry = {\n",
    "    'away_team': linescore_df['Unnamed: 1'][0],\n",
    "    'away_team_score_q1': linescore_df['1'][0],\n",
    "    'away_team_score_q2': linescore_df['2'][0],\n",
    "    'away_team_score_q3': linescore_df['3'][0],\n",
    "    'away_team_score_q4': linescore_df['4'][0],\n",
    "    'away_team_score_final': linescore_df['Final'][0],\n",
    "    'home_team': linescore_df['Unnamed: 1'][1],\n",
    "    'home_team_score_q1': linescore_df['1'][1],\n",
    "    'home_team_score_q2': linescore_df['2'][1],\n",
    "    'home_team_score_q3': linescore_df['3'][1],\n",
    "    'home_team_score_q4': linescore_df['4'][1],\n",
    "    'home_team_score_final': linescore_df['Final'][1]\n",
    "}\n",
    "# Check Overtime\n",
    "if 'OT' in linescore_df.columns:\n",
    "    entry['away_team_score_overtime'] = linescore_df['OT'][0]\n",
    "    entry['home_team_score_overtime'] = linescore_df['OT'][1]\n",
    "else:\n",
    "    entry['away_team_score_overtime'] = 0\n",
    "    entry['home_team_score_overtime'] = 0\n",
    "\n",
    "\n",
    "# TODO - How to get OT's? Try one\n",
    "print(entry)\n",
    "linescore_df.head()\n"
   ]
  },
  {
   "cell_type": "code",
   "execution_count": 180,
   "metadata": {},
   "outputs": [
    {
     "data": {
      "text/plain": [
       "['/boxscores/202110070sea.htm',\n",
       " '/boxscores/202110100atl.htm',\n",
       " '/boxscores/202110100car.htm',\n",
       " '/boxscores/202110100cin.htm',\n",
       " '/boxscores/202110100htx.htm',\n",
       " '/boxscores/202110100jax.htm',\n",
       " '/boxscores/202110100min.htm',\n",
       " '/boxscores/202110100pit.htm',\n",
       " '/boxscores/202110100tam.htm',\n",
       " '/boxscores/202110100was.htm',\n",
       " '/boxscores/202110100rai.htm',\n",
       " '/boxscores/202110100sdg.htm',\n",
       " '/boxscores/202110100crd.htm',\n",
       " '/boxscores/202110100dal.htm',\n",
       " '/boxscores/202110100kan.htm',\n",
       " '/boxscores/202110110rav.htm']"
      ]
     },
     "execution_count": 180,
     "metadata": {},
     "output_type": "execute_result"
    }
   ],
   "source": [
    "tester_games"
   ]
  },
  {
   "cell_type": "code",
   "execution_count": 106,
   "metadata": {},
   "outputs": [],
   "source": [
    "# load in weeks_lkp into a new var to test that the saving of the lookup table worked\n",
    "with open('tmp_vars/season_week_lkp_dict.pkl', 'rb') as f:\n",
    "    lookup_dict_loaded = pickle.load(f)"
   ]
  },
  {
   "cell_type": "code",
   "execution_count": 142,
   "metadata": {},
   "outputs": [
    {
     "name": "stderr",
     "output_type": "stream",
     "text": [
      "/var/folders/lx/v3kb98kn0mddnx06drz51sfh0000gn/T/ipykernel_35130/475831319.py:8: DeprecationWarning: executable_path has been deprecated, please pass in a Service object\n",
      "  driver = webdriver.Chrome(\n"
     ]
    }
   ],
   "source": [
    "### DON'T NEED BELOW CODE - DON'T NEED TO RENDER JS AT THIS POINT ###\n",
    "\n",
    "\n",
    "# # Trying to Render Javascript using Selenium\n",
    "# tester_game_next = weeks_lkp[1970][2][3][0]\n",
    "# url_tester_to_get = base_url + tester_game_next\n",
    "\n",
    "# # Selenium stuff:\n",
    "# _options = Options()\n",
    "# _options.headless = True\n",
    "# driver = webdriver.Chrome(\n",
    "#         executable_path=\"/Users/Jared/dev_work/chromedriver\",\n",
    "#         options=_options\n",
    "#     )\n",
    "# driver.get(url_tester_to_get)\n",
    "# driver.execute_script(\"window.scrollTo(1,7000)\")\n",
    "# time.sleep(5)\n",
    "# tester_source_code = driver.execute_script(\"return document.body.innerHTML;\")\n",
    "\n",
    "# # save the rendered html\n",
    "# game_id = tester_game_next[tester_game_next.find(tester_game_next.split('/')[2]):tester_game_next.find('.htm')]\n",
    "# with open(f'{game_save_location}/{game_id}.html', 'w+') as f:\n",
    "#     f.write(tester_source_code)\n",
    "# driver.close()"
   ]
  }
 ],
 "metadata": {
  "kernelspec": {
   "display_name": "Python 3.8.2 ('venv': venv)",
   "language": "python",
   "name": "python3"
  },
  "language_info": {
   "codemirror_mode": {
    "name": "ipython",
    "version": 3
   },
   "file_extension": ".py",
   "mimetype": "text/x-python",
   "name": "python",
   "nbconvert_exporter": "python",
   "pygments_lexer": "ipython3",
   "version": "3.8.2"
  },
  "orig_nbformat": 4,
  "vscode": {
   "interpreter": {
    "hash": "1a7d2c1af304e2046387ead5db1ab0d8ed0509f5df053691b4f3fa529037370d"
   }
  }
 },
 "nbformat": 4,
 "nbformat_minor": 2
}
