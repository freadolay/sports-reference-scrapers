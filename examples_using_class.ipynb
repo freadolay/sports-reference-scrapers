{
 "cells": [
  {
   "cell_type": "code",
   "execution_count": 30,
   "metadata": {},
   "outputs": [],
   "source": [
    "import importlib\n",
    "import pandas as pd\n",
    "from datetime import datetime\n",
    "import numpy as np\n",
    "\n",
    "from bs4 import BeautifulSoup\n",
    "from src import scrapers, helpers\n",
    "importlib.reload(scrapers)\n",
    "importlib.reload(helpers)\n",
    "test_scraper = scrapers.PfrScraper(\n",
    "    '/Users/Jared/OneDrive - Sportsbook Science/data/raw/nfl')"
   ]
  },
  {
   "cell_type": "code",
   "execution_count": 160,
   "metadata": {},
   "outputs": [
    {
     "name": "stdout",
     "output_type": "stream",
     "text": [
      "1970 Season Summary already saved locally, skipping\n",
      "1971 Season Summary already saved locally, skipping\n",
      "1972 Season Summary already saved locally, skipping\n",
      "1973 Season Summary already saved locally, skipping\n",
      "1974 Season Summary already saved locally, skipping\n",
      "1975 Season Summary already saved locally, skipping\n",
      "1976 Season Summary already saved locally, skipping\n",
      "1977 Season Summary already saved locally, skipping\n",
      "1978 Season Summary already saved locally, skipping\n",
      "1979 Season Summary already saved locally, skipping\n"
     ]
    }
   ],
   "source": [
    "test_scraper.request_season_summaries(range(1970, 1980))"
   ]
  },
  {
   "cell_type": "code",
   "execution_count": 2,
   "metadata": {},
   "outputs": [
    {
     "name": "stdout",
     "output_type": "stream",
     "text": [
      "['/years/1993/week_1.htm', '/years/1993/week_2.htm', '/years/1993/week_3.htm', '/years/1993/week_4.htm', '/years/1993/week_5.htm', '/years/1993/week_6.htm', '/years/1993/week_7.htm', '/years/1993/week_8.htm', '/years/1993/week_9.htm', '/years/1993/week_10.htm', '/years/1993/week_11.htm', '/years/1993/week_12.htm', '/years/1993/week_13.htm', '/years/1993/week_14.htm', '/years/1993/week_15.htm', '/years/1993/week_16.htm', '/years/1993/week_17.htm', '/years/1993/week_18.htm', '/years/1993/week_19.htm', '/years/1993/week_20.htm', '/years/1993/week_21.htm', '/years/1993/week_22.htm']\n",
      "['Week 1', 'Week 2', 'Week 3', 'Week 4', 'Week 5', 'Week 6', 'Week 7', 'Week 8', 'Week 9', 'Week 10', 'Week 11', 'Week 12', 'Week 13', 'Week 14', 'Week 15', 'Week 16', 'Week 17', 'Week 18', 'Wild Card', 'Divisional', 'Conf Champ', 'Super Bowl']\n"
     ]
    },
    {
     "data": {
      "text/html": [
       "<div>\n",
       "<style scoped>\n",
       "    .dataframe tbody tr th:only-of-type {\n",
       "        vertical-align: middle;\n",
       "    }\n",
       "\n",
       "    .dataframe tbody tr th {\n",
       "        vertical-align: top;\n",
       "    }\n",
       "\n",
       "    .dataframe thead th {\n",
       "        text-align: right;\n",
       "    }\n",
       "</style>\n",
       "<table border=\"1\" class=\"dataframe\">\n",
       "  <thead>\n",
       "    <tr style=\"text-align: right;\">\n",
       "      <th></th>\n",
       "      <th>season</th>\n",
       "      <th>num_weeks</th>\n",
       "      <th>week_summary_links</th>\n",
       "      <th>week_labels</th>\n",
       "    </tr>\n",
       "  </thead>\n",
       "  <tbody>\n",
       "    <tr>\n",
       "      <th>0</th>\n",
       "      <td>1993</td>\n",
       "      <td>22</td>\n",
       "      <td>/years/1993/week_1.htm,/years/1993/week_2.htm,...</td>\n",
       "      <td>Week 1,Week 2,Week 3,Week 4,Week 5,Week 6,Week...</td>\n",
       "    </tr>\n",
       "  </tbody>\n",
       "</table>\n",
       "</div>"
      ],
      "text/plain": [
       "   season  num_weeks                                 week_summary_links  \\\n",
       "0    1993         22  /years/1993/week_1.htm,/years/1993/week_2.htm,...   \n",
       "\n",
       "                                         week_labels  \n",
       "0  Week 1,Week 2,Week 3,Week 4,Week 5,Week 6,Week...  "
      ]
     },
     "execution_count": 2,
     "metadata": {},
     "output_type": "execute_result"
    }
   ],
   "source": [
    "sum_html = test_scraper.load_season_summary(1993)\n",
    "sum_df = test_scraper.scrape_season_summary(sum_html)\n",
    "print(sum_df['week_summary_links'][0].split(','))\n",
    "print(sum_df['week_labels'][0].split(','))\n",
    "sum_df.head()\n"
   ]
  },
  {
   "cell_type": "code",
   "execution_count": 5,
   "metadata": {},
   "outputs": [
    {
     "data": {
      "text/html": [
       "<div>\n",
       "<style scoped>\n",
       "    .dataframe tbody tr th:only-of-type {\n",
       "        vertical-align: middle;\n",
       "    }\n",
       "\n",
       "    .dataframe tbody tr th {\n",
       "        vertical-align: top;\n",
       "    }\n",
       "\n",
       "    .dataframe thead th {\n",
       "        text-align: right;\n",
       "    }\n",
       "</style>\n",
       "<table border=\"1\" class=\"dataframe\">\n",
       "  <thead>\n",
       "    <tr style=\"text-align: right;\">\n",
       "      <th></th>\n",
       "      <th>num_games</th>\n",
       "      <th>game_summary_links</th>\n",
       "    </tr>\n",
       "  </thead>\n",
       "  <tbody>\n",
       "    <tr>\n",
       "      <th>0</th>\n",
       "      <td>16</td>\n",
       "      <td>/boxscores/202109160was.htm,/boxscores/2021091...</td>\n",
       "    </tr>\n",
       "  </tbody>\n",
       "</table>\n",
       "</div>"
      ],
      "text/plain": [
       "   num_games                                 game_summary_links\n",
       "0         16  /boxscores/202109160was.htm,/boxscores/2021091..."
      ]
     },
     "execution_count": 5,
     "metadata": {},
     "output_type": "execute_result"
    }
   ],
   "source": [
    "week_sum_html = test_scraper.load_week_summary(season=2021, week=2)\n",
    "week_sum_df = test_scraper.scrape_week_summary(week_sum_html)\n",
    "week_sum_df.head()\n"
   ]
  },
  {
   "cell_type": "code",
   "execution_count": 6,
   "metadata": {},
   "outputs": [],
   "source": [
    "game_links = week_sum_df['game_summary_links'][0].split(',')\n",
    "game_html = test_scraper.get_with_requests(test_scraper.base_url+game_links[0])\n",
    "\n"
   ]
  },
  {
   "cell_type": "code",
   "execution_count": 33,
   "metadata": {},
   "outputs": [
    {
     "name": "stdout",
     "output_type": "stream",
     "text": [
      "                         Unnamed: 0                Unnamed: 1  1   2   3   4  \\\n",
      "0  via Sports Logos.net About logos           New York Giants  7   3  10   9   \n",
      "1  via Sports Logos.net About logos  Washington Football Team  0  14   3  13   \n",
      "\n",
      "   Final  \n",
      "0     29  \n",
      "1     30  \n"
     ]
    },
    {
     "data": {
      "text/html": [
       "<div>\n",
       "<style scoped>\n",
       "    .dataframe tbody tr th:only-of-type {\n",
       "        vertical-align: middle;\n",
       "    }\n",
       "\n",
       "    .dataframe tbody tr th {\n",
       "        vertical-align: top;\n",
       "    }\n",
       "\n",
       "    .dataframe thead th {\n",
       "        text-align: right;\n",
       "    }\n",
       "</style>\n",
       "<table border=\"1\" class=\"dataframe\">\n",
       "  <thead>\n",
       "    <tr style=\"text-align: right;\">\n",
       "      <th></th>\n",
       "      <th>pfr_link</th>\n",
       "      <th>week_no</th>\n",
       "      <th>week_label</th>\n",
       "      <th>pfr_game_id</th>\n",
       "      <th>is_playoff_game</th>\n",
       "      <th>day_of_week</th>\n",
       "      <th>game_start_datetime</th>\n",
       "      <th>overtime_played</th>\n",
       "      <th>home_team</th>\n",
       "      <th>home_team_score_q1</th>\n",
       "      <th>...</th>\n",
       "      <th>home_team_score_q4</th>\n",
       "      <th>home_team_score_overtime</th>\n",
       "      <th>home_team_score_final</th>\n",
       "      <th>away_team</th>\n",
       "      <th>away_team_score_q1</th>\n",
       "      <th>away_team_score_q2</th>\n",
       "      <th>away_team_score_q3</th>\n",
       "      <th>away_team_score_q4</th>\n",
       "      <th>away_team_score_overtime</th>\n",
       "      <th>away_team_score_final</th>\n",
       "    </tr>\n",
       "  </thead>\n",
       "  <tbody>\n",
       "    <tr>\n",
       "      <th>0</th>\n",
       "      <td>/boxscores/202109160was.htm</td>\n",
       "      <td>1</td>\n",
       "      <td>Week 1</td>\n",
       "      <td>202109160was</td>\n",
       "      <td>False</td>\n",
       "      <td>Thursday</td>\n",
       "      <td>2021-09-16 20:20:00</td>\n",
       "      <td>False</td>\n",
       "      <td>Washington Football Team</td>\n",
       "      <td>0</td>\n",
       "      <td>...</td>\n",
       "      <td>13</td>\n",
       "      <td>0</td>\n",
       "      <td>30</td>\n",
       "      <td>New York Giants</td>\n",
       "      <td>7</td>\n",
       "      <td>3</td>\n",
       "      <td>10</td>\n",
       "      <td>9</td>\n",
       "      <td>0</td>\n",
       "      <td>29</td>\n",
       "    </tr>\n",
       "  </tbody>\n",
       "</table>\n",
       "<p>1 rows × 22 columns</p>\n",
       "</div>"
      ],
      "text/plain": [
       "                      pfr_link  week_no week_label   pfr_game_id  \\\n",
       "0  /boxscores/202109160was.htm        1     Week 1  202109160was   \n",
       "\n",
       "   is_playoff_game day_of_week game_start_datetime  overtime_played  \\\n",
       "0            False    Thursday 2021-09-16 20:20:00            False   \n",
       "\n",
       "                  home_team  home_team_score_q1  ...  home_team_score_q4  \\\n",
       "0  Washington Football Team                   0  ...                  13   \n",
       "\n",
       "   home_team_score_overtime  home_team_score_final        away_team  \\\n",
       "0                         0                     30  New York Giants   \n",
       "\n",
       "   away_team_score_q1 away_team_score_q2  away_team_score_q3  \\\n",
       "0                   7                  3                  10   \n",
       "\n",
       "   away_team_score_q4  away_team_score_overtime  away_team_score_final  \n",
       "0                   9                         0                     29  \n",
       "\n",
       "[1 rows x 22 columns]"
      ]
     },
     "execution_count": 33,
     "metadata": {},
     "output_type": "execute_result"
    }
   ],
   "source": [
    "game_summary_df = pd.DataFrame({\n",
    "    'pfr_link': ['/boxscores/202109160was.htm'],\n",
    "    'week_no': [1],\n",
    "    'week_label': ['Week 1']\n",
    "})\n",
    "\n",
    "game_summary_df['pfr_game_id'] = game_summary_df['pfr_link'][0].split('/')[2].split('.')[0]\n",
    "game_summary_df['is_playoff_game'] = ~game_summary_df['week_label'].str.contains('Week')\n",
    "# game_summary_df['game_start_datetime_est'] = datetime()\n",
    "\n",
    "\n",
    "\n",
    "game_soup = BeautifulSoup(game_html, 'html.parser')\n",
    "\n",
    "## Scorebox Parsing ##\n",
    "scorebox_text_list = [x.get_text() for x in game_soup.find(class_='scorebox_meta').find_all('div')]\n",
    "\n",
    "# Datetime info\n",
    "date_of_game = scorebox_text_list[0]\n",
    "date_of_game_split = date_of_game.split(' ')\n",
    "day_of_week = date_of_game_split[0]\n",
    "game_summary_df['day_of_week'] = day_of_week\n",
    "\n",
    "month_str = date_of_game_split[1]\n",
    "month_str_full = helpers.month_abrv_lkp(month_str)\n",
    "day_num = date_of_game_split[2][:-1]\n",
    "year = date_of_game_split[3]\n",
    "\n",
    "# Check if Datetime info is in scorebox, if not, return np.nan\n",
    "exists, start_time = helpers.check_if_startswith(\n",
    "    'Start Time: ', scorebox_text_list)\n",
    "if exists:\n",
    "    hh_mm = start_time[:-2]\n",
    "    ampm = start_time[-2:].upper()\n",
    "    date_str = f\"{day_num}-{month_str}-{year} {hh_mm} {ampm}\"\n",
    "    dt_obj = datetime.strptime(date_str, \"%d-%b-%Y %I:%M %p\")\n",
    "    game_summary_df['game_start_datetime'] = dt_obj\n",
    "else:\n",
    "    game_summary_df['game_start_datetime'] = np.nan\n",
    "\n",
    "# Check stadium (if exists)\n",
    "\n",
    "# Game Summary Info\n",
    "# Get Linescore\n",
    "linescore = str(\n",
    "    game_soup.find('table', class_='linescore nohover stats_table no_freeze'))\n",
    "linescore_df = pd.read_html(linescore)[0]\n",
    "\n",
    "# Check Overtime\n",
    "if 'OT' in linescore_df.columns:\n",
    "    game_summary_df['overtime_played'] = True\n",
    "    ot_score_home = linescore_df['OT'][1]\n",
    "    ot_score_away = linescore_df['OT'][0]\n",
    "else:\n",
    "    game_summary_df['overtime_played'] = False\n",
    "    ot_score_home = 0\n",
    "    ot_score_away = 0\n",
    "\n",
    "game_summary_df['home_team'] = linescore_df['Unnamed: 1'][1]\n",
    "game_summary_df['home_team_score_q1'] = linescore_df['1'][1]\n",
    "game_summary_df['home_team_score_q2'] = linescore_df['2'][1]\n",
    "game_summary_df['home_team_score_q3'] = linescore_df['3'][1]\n",
    "game_summary_df['home_team_score_q4'] = linescore_df['4'][1]\n",
    "game_summary_df['home_team_score_overtime'] = ot_score_home\n",
    "game_summary_df['home_team_score_final'] = linescore_df['Final'][1]\n",
    "game_summary_df['away_team'] = linescore_df['Unnamed: 1'][0]\n",
    "game_summary_df['away_team_score_q1'] = linescore_df['1'][0]\n",
    "game_summary_df['away_team_score_q2'] = linescore_df['2'][0]\n",
    "game_summary_df['away_team_score_q3'] = linescore_df['3'][0]\n",
    "game_summary_df['away_team_score_q4'] = linescore_df['4'][0]\n",
    "game_summary_df['away_team_score_overtime'] = ot_score_away\n",
    "game_summary_df['away_team_score_final'] = linescore_df['Final'][0]\n",
    "\n",
    "\n",
    "print(linescore_df.head())\n",
    "game_summary_df.head()\n",
    "\n"
   ]
  },
  {
   "cell_type": "code",
   "execution_count": 31,
   "metadata": {},
   "outputs": [
    {
     "name": "stdout",
     "output_type": "stream",
     "text": [
      "['Thursday Sep 16, 2021', 'Start Time: 8:20pm', 'Stadium: FedExField ', 'Attendance: 50,118', 'Time of Game: 3:19', 'Logos via Sports Logos.net\\n            / About logos']\n"
     ]
    },
    {
     "data": {
      "text/plain": [
       "(True, 'Sep 16, 2021')"
      ]
     },
     "execution_count": 31,
     "metadata": {},
     "output_type": "execute_result"
    }
   ],
   "source": [
    "print(scorebox_text_list)\n",
    "scorebox_text_list[0].rindex('Thursday')\n",
    "helpers.check_if_startswith(sub_str='Thursday', text_list=scorebox_text_list)\n"
   ]
  },
  {
   "cell_type": "code",
   "execution_count": null,
   "metadata": {},
   "outputs": [],
   "source": []
  }
 ],
 "metadata": {
  "kernelspec": {
   "display_name": "Python 3.8.2 ('venv': venv)",
   "language": "python",
   "name": "python3"
  },
  "language_info": {
   "codemirror_mode": {
    "name": "ipython",
    "version": 3
   },
   "file_extension": ".py",
   "mimetype": "text/x-python",
   "name": "python",
   "nbconvert_exporter": "python",
   "pygments_lexer": "ipython3",
   "version": "3.8.2"
  },
  "orig_nbformat": 4,
  "vscode": {
   "interpreter": {
    "hash": "1a7d2c1af304e2046387ead5db1ab0d8ed0509f5df053691b4f3fa529037370d"
   }
  }
 },
 "nbformat": 4,
 "nbformat_minor": 2
}
