{
 "cells": [
  {
   "cell_type": "code",
   "execution_count": 182,
   "metadata": {},
   "outputs": [],
   "source": [
    "import importlib\n",
    "import pandas as pd\n",
    "from bs4 import BeautifulSoup\n",
    "from src import scrapers\n",
    "importlib.reload(scrapers)\n",
    "test_scraper = scrapers.PfrScraper(\n",
    "    '/Users/Jared/OneDrive - Sportsbook Science/data/raw/nfl')"
   ]
  },
  {
   "cell_type": "code",
   "execution_count": 160,
   "metadata": {},
   "outputs": [
    {
     "name": "stdout",
     "output_type": "stream",
     "text": [
      "1970 Season Summary already saved locally, skipping\n",
      "1971 Season Summary already saved locally, skipping\n",
      "1972 Season Summary already saved locally, skipping\n",
      "1973 Season Summary already saved locally, skipping\n",
      "1974 Season Summary already saved locally, skipping\n",
      "1975 Season Summary already saved locally, skipping\n",
      "1976 Season Summary already saved locally, skipping\n",
      "1977 Season Summary already saved locally, skipping\n",
      "1978 Season Summary already saved locally, skipping\n",
      "1979 Season Summary already saved locally, skipping\n"
     ]
    }
   ],
   "source": [
    "test_scraper.request_season_summaries(range(1970, 1980))"
   ]
  },
  {
   "cell_type": "code",
   "execution_count": 173,
   "metadata": {},
   "outputs": [
    {
     "name": "stdout",
     "output_type": "stream",
     "text": [
      "['/years/1993/week_1.htm', '/years/1993/week_2.htm', '/years/1993/week_3.htm', '/years/1993/week_4.htm', '/years/1993/week_5.htm', '/years/1993/week_6.htm', '/years/1993/week_7.htm', '/years/1993/week_8.htm', '/years/1993/week_9.htm', '/years/1993/week_10.htm', '/years/1993/week_11.htm', '/years/1993/week_12.htm', '/years/1993/week_13.htm', '/years/1993/week_14.htm', '/years/1993/week_15.htm', '/years/1993/week_16.htm', '/years/1993/week_17.htm', '/years/1993/week_18.htm', '/years/1993/week_19.htm', '/years/1993/week_20.htm', '/years/1993/week_21.htm', '/years/1993/week_22.htm']\n"
     ]
    },
    {
     "data": {
      "text/html": [
       "<div>\n",
       "<style scoped>\n",
       "    .dataframe tbody tr th:only-of-type {\n",
       "        vertical-align: middle;\n",
       "    }\n",
       "\n",
       "    .dataframe tbody tr th {\n",
       "        vertical-align: top;\n",
       "    }\n",
       "\n",
       "    .dataframe thead th {\n",
       "        text-align: right;\n",
       "    }\n",
       "</style>\n",
       "<table border=\"1\" class=\"dataframe\">\n",
       "  <thead>\n",
       "    <tr style=\"text-align: right;\">\n",
       "      <th></th>\n",
       "      <th>season</th>\n",
       "      <th>num_weeks</th>\n",
       "      <th>week_summary_links</th>\n",
       "    </tr>\n",
       "  </thead>\n",
       "  <tbody>\n",
       "    <tr>\n",
       "      <th>0</th>\n",
       "      <td>1993</td>\n",
       "      <td>22</td>\n",
       "      <td>/years/1993/week_1.htm,/years/1993/week_2.htm,...</td>\n",
       "    </tr>\n",
       "  </tbody>\n",
       "</table>\n",
       "</div>"
      ],
      "text/plain": [
       "   season  num_weeks                                 week_summary_links\n",
       "0    1993         22  /years/1993/week_1.htm,/years/1993/week_2.htm,..."
      ]
     },
     "execution_count": 173,
     "metadata": {},
     "output_type": "execute_result"
    }
   ],
   "source": [
    "sum_html = test_scraper.load_season_summary(1993)\n",
    "sum_df = test_scraper.scrape_season_summary(sum_html)\n",
    "print(sum_df['week_summary_links'][0].split(','))\n",
    "sum_df.head()\n"
   ]
  },
  {
   "cell_type": "code",
   "execution_count": 180,
   "metadata": {},
   "outputs": [
    {
     "data": {
      "text/html": [
       "<div>\n",
       "<style scoped>\n",
       "    .dataframe tbody tr th:only-of-type {\n",
       "        vertical-align: middle;\n",
       "    }\n",
       "\n",
       "    .dataframe tbody tr th {\n",
       "        vertical-align: top;\n",
       "    }\n",
       "\n",
       "    .dataframe thead th {\n",
       "        text-align: right;\n",
       "    }\n",
       "</style>\n",
       "<table border=\"1\" class=\"dataframe\">\n",
       "  <thead>\n",
       "    <tr style=\"text-align: right;\">\n",
       "      <th></th>\n",
       "      <th>num_games</th>\n",
       "      <th>game_summary_links</th>\n",
       "    </tr>\n",
       "  </thead>\n",
       "  <tbody>\n",
       "    <tr>\n",
       "      <th>0</th>\n",
       "      <td>16</td>\n",
       "      <td>/boxscores/202109160was.htm,/boxscores/2021091...</td>\n",
       "    </tr>\n",
       "  </tbody>\n",
       "</table>\n",
       "</div>"
      ],
      "text/plain": [
       "   num_games                                 game_summary_links\n",
       "0         16  /boxscores/202109160was.htm,/boxscores/2021091..."
      ]
     },
     "execution_count": 180,
     "metadata": {},
     "output_type": "execute_result"
    }
   ],
   "source": [
    "week_sum_html = test_scraper.load_week_summary(season=2021, week=2)\n",
    "week_sum_df = test_scraper.scrape_week_summary(week_sum_html)\n",
    "week_sum_df.head()\n"
   ]
  },
  {
   "cell_type": "code",
   "execution_count": 184,
   "metadata": {},
   "outputs": [],
   "source": [
    "game_links = week_sum_df['game_summary_links'][0].split(',')\n",
    "game_html = test_scraper.get_with_requests(test_scraper.base_url+game_links[0])"
   ]
  },
  {
   "cell_type": "code",
   "execution_count": 186,
   "metadata": {},
   "outputs": [
    {
     "name": "stdout",
     "output_type": "stream",
     "text": [
      "{'away_team': 'New York Giants', 'away_team_score_q1': 7, 'away_team_score_q2': 3, 'away_team_score_q3': 10, 'away_team_score_q4': 9, 'away_team_score_final': 29, 'home_team': 'Washington Football Team', 'home_team_score_q1': 0, 'home_team_score_q2': 14, 'home_team_score_q3': 3, 'home_team_score_q4': 13, 'home_team_score_final': 30, 'overtime_played': False, 'away_team_score_overtime': 0, 'home_team_score_overtime': 0}\n"
     ]
    },
    {
     "data": {
      "text/html": [
       "<div>\n",
       "<style scoped>\n",
       "    .dataframe tbody tr th:only-of-type {\n",
       "        vertical-align: middle;\n",
       "    }\n",
       "\n",
       "    .dataframe tbody tr th {\n",
       "        vertical-align: top;\n",
       "    }\n",
       "\n",
       "    .dataframe thead th {\n",
       "        text-align: right;\n",
       "    }\n",
       "</style>\n",
       "<table border=\"1\" class=\"dataframe\">\n",
       "  <thead>\n",
       "    <tr style=\"text-align: right;\">\n",
       "      <th></th>\n",
       "      <th>Unnamed: 0</th>\n",
       "      <th>Unnamed: 1</th>\n",
       "      <th>1</th>\n",
       "      <th>2</th>\n",
       "      <th>3</th>\n",
       "      <th>4</th>\n",
       "      <th>Final</th>\n",
       "    </tr>\n",
       "  </thead>\n",
       "  <tbody>\n",
       "    <tr>\n",
       "      <th>0</th>\n",
       "      <td>via Sports Logos.net About logos</td>\n",
       "      <td>New York Giants</td>\n",
       "      <td>7</td>\n",
       "      <td>3</td>\n",
       "      <td>10</td>\n",
       "      <td>9</td>\n",
       "      <td>29</td>\n",
       "    </tr>\n",
       "    <tr>\n",
       "      <th>1</th>\n",
       "      <td>via Sports Logos.net About logos</td>\n",
       "      <td>Washington Football Team</td>\n",
       "      <td>0</td>\n",
       "      <td>14</td>\n",
       "      <td>3</td>\n",
       "      <td>13</td>\n",
       "      <td>30</td>\n",
       "    </tr>\n",
       "  </tbody>\n",
       "</table>\n",
       "</div>"
      ],
      "text/plain": [
       "                         Unnamed: 0                Unnamed: 1  1   2   3   4  \\\n",
       "0  via Sports Logos.net About logos           New York Giants  7   3  10   9   \n",
       "1  via Sports Logos.net About logos  Washington Football Team  0  14   3  13   \n",
       "\n",
       "   Final  \n",
       "0     29  \n",
       "1     30  "
      ]
     },
     "execution_count": 186,
     "metadata": {},
     "output_type": "execute_result"
    }
   ],
   "source": [
    "game_soup = BeautifulSoup(game_html, 'html.parser')\n",
    "# Game Summary Info\n",
    "# Get Linescore\n",
    "linescore = str(\n",
    "    game_soup.find('table', class_='linescore nohover stats_table no_freeze'))\n",
    "linescore_df = pd.read_html(linescore)[0]\n",
    "entry = {\n",
    "    'away_team': linescore_df['Unnamed: 1'][0],\n",
    "    'away_team_score_q1': linescore_df['1'][0],\n",
    "    'away_team_score_q2': linescore_df['2'][0],\n",
    "    'away_team_score_q3': linescore_df['3'][0],\n",
    "    'away_team_score_q4': linescore_df['4'][0],\n",
    "    'away_team_score_final': linescore_df['Final'][0],\n",
    "    'home_team': linescore_df['Unnamed: 1'][1],\n",
    "    'home_team_score_q1': linescore_df['1'][1],\n",
    "    'home_team_score_q2': linescore_df['2'][1],\n",
    "    'home_team_score_q3': linescore_df['3'][1],\n",
    "    'home_team_score_q4': linescore_df['4'][1],\n",
    "    'home_team_score_final': linescore_df['Final'][1]\n",
    "}\n",
    "# Check Overtime\n",
    "if 'OT' in linescore_df.columns:\n",
    "    entry['overtime_played'] = True\n",
    "    entry['away_team_score_overtime'] = linescore_df['OT'][0]\n",
    "    entry['home_team_score_overtime'] = linescore_df['OT'][1]\n",
    "else:\n",
    "    entry['overtime_played'] = False\n",
    "    entry['away_team_score_overtime'] = 0\n",
    "    entry['home_team_score_overtime'] = 0\n",
    "\n",
    "print(linescore_df.head())\n",
    "\n",
    "\n"
   ]
  },
  {
   "cell_type": "code",
   "execution_count": null,
   "metadata": {},
   "outputs": [],
   "source": []
  }
 ],
 "metadata": {
  "kernelspec": {
   "display_name": "Python 3.8.2 ('venv': venv)",
   "language": "python",
   "name": "python3"
  },
  "language_info": {
   "codemirror_mode": {
    "name": "ipython",
    "version": 3
   },
   "file_extension": ".py",
   "mimetype": "text/x-python",
   "name": "python",
   "nbconvert_exporter": "python",
   "pygments_lexer": "ipython3",
   "version": "3.8.2"
  },
  "orig_nbformat": 4,
  "vscode": {
   "interpreter": {
    "hash": "1a7d2c1af304e2046387ead5db1ab0d8ed0509f5df053691b4f3fa529037370d"
   }
  }
 },
 "nbformat": 4,
 "nbformat_minor": 2
}
